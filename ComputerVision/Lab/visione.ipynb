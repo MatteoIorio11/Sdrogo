{
 "cells": [
  {
   "attachments": {},
   "cell_type": "markdown",
   "metadata": {},
   "source": [
    "# Appunti Python\n",
    "\n",
    "## Tipi di dato\n",
    "\n",
    "**None**: viene utilizzato per inizializzare un oggetto senza alcun valore, è un oggetto NoneType\n",
    "\n",
    "**Int**: valori interi con 32 o 64 bit\n",
    "\n",
    "**Float**: numeri con la virgola in doppia precisione a livello macchina (è il double)\n",
    "\n",
    "**Complex**: numeri complessi rappresentati da una coppia di float\n",
    "\n",
    "**String**: Insieme di caratteri UNICODE. \n",
    "\n",
    "Tutti i tipi numerici e le stringhe sono **IMMUTABILI**."
   ]
  },
  {
   "cell_type": "code",
   "execution_count": null,
   "metadata": {},
   "outputs": [],
   "source": [
    "x = None\n",
    "y = 1\n",
    "z = 2.8\n",
    "a = \"Hello World!\""
   ]
  },
  {
   "attachments": {},
   "cell_type": "markdown",
   "metadata": {},
   "source": [
    "## Cast\n",
    "\n",
    "I cast vengono effettuati con il nome della classe a cui si vuole effettuare il **cast**."
   ]
  },
  {
   "cell_type": "code",
   "execution_count": null,
   "metadata": {},
   "outputs": [],
   "source": [
    "integer = 2\n",
    "floating = 2.5\n",
    "x = float(integer)\n",
    "y = int(floating)"
   ]
  }
 ],
 "metadata": {
  "language_info": {
   "name": "python"
  },
  "orig_nbformat": 4
 },
 "nbformat": 4,
 "nbformat_minor": 2
}

{
 "cells": [
  {
   "attachments": {},
   "cell_type": "markdown",
   "metadata": {},
   "source": [
    "# Appunti Python\n",
    "\n",
    "## Tipi di dato\n",
    "\n",
    "* **None**: viene utilizzato per inizializzare un oggetto senza alcun valore, è un oggetto NoneType\n",
    "\n",
    "* **Int**: valori interi con 32 o 64 bit\n",
    "\n",
    "* **Float**: numeri con la virgola in doppia precisione a livello macchina (è il double)\n",
    "\n",
    "* **Complex**: numeri complessi rappresentati da una coppia di float\n",
    "\n",
    "* **String**: Insieme di caratteri UNICODE. \n",
    "\n",
    "Tutti i tipi numerici e le stringhe sono **IMMUTABILI**."
   ]
  },
  {
   "cell_type": "code",
   "execution_count": null,
   "metadata": {},
   "outputs": [],
   "source": [
    "x = None\n",
    "y = 1\n",
    "z = 2.8\n",
    "a = \"Hello World!\""
   ]
  },
  {
   "attachments": {},
   "cell_type": "markdown",
   "metadata": {},
   "source": [
    "### Operazioni su Stringhe\n",
    "\n",
    "Concatenazione tramite il '+'. E' inoltre possibile ad accedere ad un singolo elemento come se fosse un array, oltre a questo è possibile ottenere la lunghezza della stringa tramite il metodo 'len'. \n",
    "\n",
    "Facendo iniziare una string a con ' \"\"\" ' si inizializza una stringa multilinea. \n",
    "\n",
    "* **.upper()**: si ottiene tutta la stringa in maiuscolo\n",
    "\n",
    "* **.lower()**: si ottiene tutta la stringa in minuscolo\n",
    "\n",
    "* **.replace(A, X)**: sostituisco tutte le 'A' con la 'X'.\n",
    "\n",
    "### Formatted String \n",
    "Possibilità di scrivere all'interno di una stringa"
   ]
  },
  {
   "cell_type": "code",
   "execution_count": 1,
   "metadata": {},
   "outputs": [
    {
     "data": {
      "text/plain": [
       "12"
      ]
     },
     "execution_count": 1,
     "metadata": {},
     "output_type": "execute_result"
    }
   ],
   "source": [
    "string1 = \"Hello \"\n",
    "string2 = \"World!\"\n",
    "\n",
    "string3 = string1+string2\n",
    "\n",
    "string3[3]\n",
    "len(string3)\n",
    "\n",
    "\n",
    "s = f'Formatted String {string1} with two decimals {x:.2f}'"
   ]
  },
  {
   "attachments": {},
   "cell_type": "markdown",
   "metadata": {},
   "source": [
    "## Cast\n",
    "\n",
    "I cast vengono effettuati con il nome della classe a cui si vuole effettuare il **cast**."
   ]
  },
  {
   "cell_type": "code",
   "execution_count": null,
   "metadata": {},
   "outputs": [],
   "source": [
    "integer = 2\n",
    "floating = 2.5\n",
    "x = float(integer)\n",
    "y = int(floating)"
   ]
  },
  {
   "attachments": {},
   "cell_type": "markdown",
   "metadata": {},
   "source": [
    "## Booleani\n",
    "\n",
    "Due possibili valori: True e False"
   ]
  },
  {
   "cell_type": "code",
   "execution_count": 3,
   "metadata": {},
   "outputs": [
    {
     "name": "stdout",
     "output_type": "stream",
     "text": [
      "27\n"
     ]
    }
   ],
   "source": [
    "a = True\n",
    "b = False\n",
    "\n",
    "c = not a\n",
    "d = a and b\n",
    "\n",
    "x = 3\n",
    "print(x := x**3)\n"
   ]
  },
  {
   "attachments": {},
   "cell_type": "markdown",
   "metadata": {},
   "source": [
    "## Operatori di Idenità\n",
    "\n",
    "* **is**: returns True if both variables *refer* (same id) to the same object, x is y\n",
    "\n",
    "* **is not**: returns True if both variables refer to different objects, x is not y\n",
    "\n",
    "## Operatori di Appartenenza\n",
    "\n",
    "* **in**: returns True if a sequence is contained inside a collection, x in list\n",
    "\n"
   ]
  },
  {
   "cell_type": "code",
   "execution_count": 10,
   "metadata": {},
   "outputs": [
    {
     "ename": "NameError",
     "evalue": "name 'y' is not defined",
     "output_type": "error",
     "traceback": [
      "\u001b[1;31m---------------------------------------------------------------------------\u001b[0m",
      "\u001b[1;31mNameError\u001b[0m                                 Traceback (most recent call last)",
      "\u001b[1;32mc:\\Users\\matteo.iorio2\\Desktop\\Sdrogo\\ComputerVision\\Lab\\visione.ipynb Cell 10\u001b[0m in \u001b[0;36m<module>\u001b[1;34m\u001b[0m\n\u001b[1;32m----> <a href='vscode-notebook-cell:/c%3A/Users/matteo.iorio2/Desktop/Sdrogo/ComputerVision/Lab/visione.ipynb#X13sZmlsZQ%3D%3D?line=0'>1</a>\u001b[0m x \u001b[39mis\u001b[39;00m y\n\u001b[0;32m      <a href='vscode-notebook-cell:/c%3A/Users/matteo.iorio2/Desktop/Sdrogo/ComputerVision/Lab/visione.ipynb#X13sZmlsZQ%3D%3D?line=1'>2</a>\u001b[0m x \u001b[39mis\u001b[39;00m \u001b[39mnot\u001b[39;00m y\n",
      "\u001b[1;31mNameError\u001b[0m: name 'y' is not defined"
     ]
    }
   ],
   "source": [
    "x is y\n",
    "x is not y"
   ]
  },
  {
   "cell_type": "code",
   "execution_count": 20,
   "metadata": {},
   "outputs": [],
   "source": [
    "a = 40"
   ]
  },
  {
   "cell_type": "code",
   "execution_count": 23,
   "metadata": {},
   "outputs": [
    {
     "data": {
      "text/plain": [
       "42"
      ]
     },
     "execution_count": 23,
     "metadata": {},
     "output_type": "execute_result"
    }
   ],
   "source": [
    "a"
   ]
  },
  {
   "cell_type": "code",
   "execution_count": 24,
   "metadata": {},
   "outputs": [
    {
     "name": "stdout",
     "output_type": "stream",
     "text": [
      "2180542957072 2180542957072 True True\n"
     ]
    }
   ],
   "source": [
    "x = 42\n",
    "a = x\n",
    "print(id(a), id(x), bool(x), x==a)"
   ]
  },
  {
   "attachments": {},
   "cell_type": "markdown",
   "metadata": {},
   "source": [
    "### Slicing"
   ]
  },
  {
   "cell_type": "code",
   "execution_count": 86,
   "metadata": {},
   "outputs": [
    {
     "name": "stdout",
     "output_type": "stream",
     "text": [
      "(0, 'a')\n",
      "(1, 'b')\n",
      "(2, 'c')\n",
      "[[1], [2, 2], [3, 3, 3]]\n"
     ]
    }
   ],
   "source": [
    "l1 = [1, 2]\n",
    "l2 = [1, 2, 3]\n",
    "\n",
    "a = ['a', 'b', 'c']\n",
    "for x in enumerate(a):\n",
    "    print(x)\n",
    "l3 = [[el2]*el2 for el2 in l2]\n",
    "print(l3)"
   ]
  },
  {
   "cell_type": "code",
   "execution_count": 59,
   "metadata": {},
   "outputs": [
    {
     "name": "stdout",
     "output_type": "stream",
     "text": [
      "1\n",
      "[2, 4, 5, 7, 8]\n"
     ]
    }
   ],
   "source": [
    "l1[1:-1:]\n",
    "x, y, *resto = 1, 2.4, 2, 4, 5, 7, 8\n",
    "print(x)\n",
    "print(resto)"
   ]
  },
  {
   "attachments": {},
   "cell_type": "markdown",
   "metadata": {},
   "source": [
    "### Dictionaries"
   ]
  },
  {
   "cell_type": "code",
   "execution_count": null,
   "metadata": {},
   "outputs": [],
   "source": [
    "students = {101:\"Nome1\", 102:\"Nome2\"}\n",
    "for mat in students:\n",
    "    print(mat)\n",
    "    print(students[mat])\n",
    "\n",
    "for mat in students.keys():\n",
    "    print(mat)\n",
    "\n",
    "for name in students.values():\n",
    "    print(name)\n",
    "\n",
    "for mat, name in students.items():\n",
    "    print(f\"k: {mat} v: {name}\")\n",
    "students2 = {m: students[m] for m in students if m % 2 == 0}\n",
    "\n",
    "dictRand = {(k, v): k+v for k in range(4) for v in range(4)}\n",
    "print(dictRand)\n",
    "print(students2)"
   ]
  },
  {
   "attachments": {},
   "cell_type": "markdown",
   "metadata": {},
   "source": [
    "### Functions\n"
   ]
  },
  {
   "cell_type": "code",
   "execution_count": null,
   "metadata": {},
   "outputs": [],
   "source": [
    "def sostituisci(lista, x, y):\n",
    "    for indice, valore in enumerate(lista):\n",
    "        if(valore == x):\n",
    "            lista[indice] = y\n",
    "    print(lista)\n",
    "\n",
    "def sostituisci2(lista, x, y):\n",
    "    lista[:] = [y if v==x else v for v in lista]\n",
    "    print(lista)\n",
    "\n",
    "lista = [1, 2 ,3 ,4, 2, 1, 2, 4]\n",
    "sostituisci(lista, 2, 0)\n",
    "sostituisci2(lista, 2, 0)\n"
   ]
  },
  {
   "attachments": {},
   "cell_type": "markdown",
   "metadata": {},
   "source": [
    "Numero variabile di parametri"
   ]
  },
  {
   "cell_type": "code",
   "execution_count": null,
   "metadata": {},
   "outputs": [],
   "source": [
    "def sostituisci(lista, *x, **y):\n",
    "    print(\"aoo\")"
   ]
  }
 ],
 "metadata": {
  "kernelspec": {
   "display_name": "py310",
   "language": "python",
   "name": "python3"
  },
  "language_info": {
   "codemirror_mode": {
    "name": "ipython",
    "version": 3
   },
   "file_extension": ".py",
   "mimetype": "text/x-python",
   "name": "python",
   "nbconvert_exporter": "python",
   "pygments_lexer": "ipython3",
   "version": "3.10.8"
  },
  "orig_nbformat": 4,
  "vscode": {
   "interpreter": {
    "hash": "30eef1dcfb837675ec28ded3b62cbdc631b763468d0e57f04da975e3db11727d"
   }
  }
 },
 "nbformat": 4,
 "nbformat_minor": 2
}

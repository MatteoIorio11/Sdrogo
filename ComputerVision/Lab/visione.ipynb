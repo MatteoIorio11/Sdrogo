{
 "cells": [
  {
   "attachments": {},
   "cell_type": "markdown",
   "metadata": {},
   "source": [
    "# Appunti Python\n",
    "\n",
    "## Tipi di dato\n",
    "\n",
    "**None**: viene utilizzato per inizializzare un oggetto senza alcun valore, è un oggetto NoneType\n",
    "\n",
    "**Int**: valori interi con 32 o 64 bit\n",
    "\n",
    "**Float**: numeri con la virgola in doppia precisione a livello macchina (è il double)\n",
    "\n",
    "**Complex**: numeri complessi rappresentati da una coppia di float\n"
   ]
  },
  {
   "cell_type": "code",
   "execution_count": null,
   "metadata": {},
   "outputs": [],
   "source": [
    "x = None"
   ]
  }
 ],
 "metadata": {
  "language_info": {
   "name": "python"
  },
  "orig_nbformat": 4
 },
 "nbformat": 4,
 "nbformat_minor": 2
}
